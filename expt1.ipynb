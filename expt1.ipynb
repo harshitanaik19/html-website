{
  "nbformat": 4,
  "nbformat_minor": 0,
  "metadata": {
    "colab": {
      "provenance": [],
      "toc_visible": true,
      "authorship_tag": "ABX9TyOSnQoIj/nBB9m1nAUzdamL",
      "include_colab_link": true
    },
    "kernelspec": {
      "name": "python3",
      "display_name": "Python 3"
    },
    "language_info": {
      "name": "python"
    }
  },
  "cells": [
    {
      "cell_type": "markdown",
      "metadata": {
        "id": "view-in-github",
        "colab_type": "text"
      },
      "source": [
        "<a href=\"https://colab.research.google.com/github/harshitanaik19/html-website/blob/main/expt1.ipynb\" target=\"_parent\"><img src=\"https://colab.research.google.com/assets/colab-badge.svg\" alt=\"Open In Colab\"/></a>"
      ]
    },
    {
      "cell_type": "markdown",
      "source": [],
      "metadata": {
        "id": "Rdg9CxP6Z516"
      }
    },
    {
      "cell_type": "markdown",
      "source": [
        "1.1"
      ],
      "metadata": {
        "id": "GtbjVmUJcSLZ"
      }
    },
    {
      "cell_type": "markdown",
      "source": [
        "**PYTHON COMMAND TO ADD TWO NUMBER**"
      ],
      "metadata": {
        "id": "2Cfsb4FTZ_64"
      }
    },
    {
      "cell_type": "code",
      "source": [
        "\n",
        "a=3;\n",
        "b=4;\n",
        "add=a+b;\n",
        "print(add)"
      ],
      "metadata": {
        "colab": {
          "base_uri": "https://localhost:8080/"
        },
        "id": "BUDGYfZyaRwq",
        "outputId": "64df7c91-0287-42bd-c660-1180054da022"
      },
      "execution_count": null,
      "outputs": [
        {
          "output_type": "stream",
          "name": "stdout",
          "text": [
            "7\n"
          ]
        }
      ]
    },
    {
      "cell_type": "markdown",
      "source": [
        "**program to take two user number and add them**"
      ],
      "metadata": {
        "id": "5noFPhYFa9OZ"
      }
    },
    {
      "cell_type": "code",
      "source": [
        "num1=int(input(\"Enter the first number:\"))\n",
        "num2=int(input(\"Enter the second number:\"))\n",
        "add= num1 +num2\n",
        "print(\"ADDITION=\",add)[]\n"
      ],
      "metadata": {
        "id": "ISuHkcGlbGUJ",
        "colab": {
          "base_uri": "https://localhost:8080/"
        },
        "outputId": "3ea1876c-5032-48f7-e67c-4a7981fd158f"
      },
      "execution_count": null,
      "outputs": [
        {
          "output_type": "stream",
          "name": "stdout",
          "text": [
            "Enter the first number:31\n",
            "Enter the second number:678\n",
            "ADDITION= 709\n"
          ]
        }
      ]
    },
    {
      "cell_type": "markdown",
      "source": [],
      "metadata": {
        "id": "T0TeHB2mbE1J"
      }
    },
    {
      "cell_type": "markdown",
      "source": [
        "**1.2**"
      ],
      "metadata": {
        "id": "Tc6NLgiLd8Up"
      }
    },
    {
      "cell_type": "markdown",
      "source": [
        "**create simple python calculator**"
      ],
      "metadata": {
        "id": "qGALGNyneG6u"
      }
    },
    {
      "cell_type": "code",
      "source": [
        "num1=int(input(\"Enter the first number:\"))\n",
        "num2=int(input(\"Enter the second number:\"))\n",
        "num3=int(input(\"Enter the third number:\"))\n",
        "num4=int(input(\"Enter the fourth number:\"))\n",
        "add= num1 +num2\n",
        "sub=num3-num4\n",
        "mul=num1*num4\n",
        "div=num4/num2\n",
        "print(\"ADDITION=\",add)\n",
        "print(\"SUBTRACTION=\",sub)\n",
        "print(\"MULTIPLICATION=\",mul)\n",
        "print(\"DIVISION=\",div)"
      ],
      "metadata": {
        "colab": {
          "base_uri": "https://localhost:8080/"
        },
        "id": "-NvL-6hEeTmH",
        "outputId": "0212cf40-0cc3-40e3-ff4a-5e893664c87d"
      },
      "execution_count": null,
      "outputs": [
        {
          "output_type": "stream",
          "name": "stdout",
          "text": [
            "Enter the first number:1\n",
            "Enter the second number:2\n",
            "Enter the third number:3\n",
            "Enter the fourth number:4\n",
            "ADDITION= 3\n",
            "SUBTRACTION= -1\n",
            "MULTIPLICATION= 4\n",
            "DIVISION= 2.0\n"
          ]
        }
      ]
    },
    {
      "cell_type": "markdown",
      "source": [
        "## **Python code for text handling**"
      ],
      "metadata": {
        "id": "umhSwDIAZ5xv"
      }
    },
    {
      "cell_type": "markdown",
      "source": [
        "**1. PYTHON CODE TO CHECK A STRING PALAMDROME**"
      ],
      "metadata": {
        "id": "oTIMk1P-eXfw"
      }
    },
    {
      "cell_type": "code",
      "source": [
        "s = input(\"Enter a string: \")\n",
        "\n",
        "i,j = 0, len(s) - 1\n",
        "\n",
        "is_palindrome = True\n",
        "while i < j:\n",
        "    if s[i] != s[j]:\n",
        "        is_palindrome = False\n",
        "        break\n",
        "    i += 1\n",
        "    j -= 1\n",
        "\n",
        "if is_palindrome:\n",
        "    print(\"Yes\")\n",
        "else:\n",
        "    print(\"No\")"
      ],
      "metadata": {
        "colab": {
          "base_uri": "https://localhost:8080/"
        },
        "id": "RVLUQk8pejtg",
        "outputId": "df35ee52-d80d-44d9-82e7-2620975931f6"
      },
      "execution_count": null,
      "outputs": [
        {
          "output_type": "stream",
          "name": "stdout",
          "text": [
            "Enter a string: effiel\n",
            "No\n"
          ]
        }
      ]
    },
    {
      "cell_type": "markdown",
      "source": [
        "**2. PYTHON CODE TO READ DATA FROM TEXT FILE**"
      ],
      "metadata": {
        "id": "R08kRKMbf-h5"
      }
    },
    {
      "cell_type": "code",
      "source": [],
      "metadata": {
        "id": "08v1KCNqgJ8C"
      },
      "execution_count": null,
      "outputs": []
    }
  ]
}